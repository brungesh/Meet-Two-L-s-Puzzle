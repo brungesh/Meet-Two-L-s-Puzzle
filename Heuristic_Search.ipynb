{
 "cells": [
  {
   "cell_type": "markdown",
   "metadata": {},
   "source": [
    "# Puzzle: Making two L's meet using Heuristic Search\n"
   ]
  },
  {
   "cell_type": "markdown",
   "metadata": {},
   "source": [
    "*Brungesh BE*"
   ]
  },
  {
   "cell_type": "markdown",
   "metadata": {},
   "source": [
    "Here we will solve a sliding block puzzle not unlike the Eight Puzzle that we have seen before.The puzzle is called \"Making two L's meet\".  It's played on a 5 x 5 grid with nine pieces that are placed as follows:![](https://www.cs.colostate.edu/~cs440/fall19/assignments/images/initial.png)"
   ]
  },
  {
   "cell_type": "markdown",
   "metadata": {},
   "source": [
    "The pieces are numbered from 1 to 9, and the two L-shaped pieces are numbered 2 and 7.  The un-numbered regions are empty.  A piece can be moved into an adjacent empty space that can accommodate it.  For example, piece number 9 can be moved left or right, and piece number 7 can be moved down.  Note that pieces 1,2,7,8 take up three squares, 3,4,5,6 take up two squares, and 9 takes up a single square.  The following is an example of a valid solution to the puzzle:\n",
    "![](https://www.cs.colostate.edu/~cs440/fall19/assignments/images/goal.png)"
   ]
  },
  {
   "cell_type": "code",
   "execution_count": 1,
   "metadata": {},
   "outputs": [],
   "source": [
    "goal = (1,1,1,2,2, 8,8,8,7,2, 3,3,0,7,7, 4,4,0,0,0, 5,5,6,6,9)"
   ]
  },
  {
   "cell_type": "markdown",
   "metadata": {},
   "source": [
    "To write a program that solves the puzzle we need to define the possible actions at a given state.  Whereas for the Eight Puzzle, an action could be specified by the direction in which the empty square is moved, this is no longer possible in this puzzle.  Here an action is a tuple `(piece, direction)` where `piece` is the piece that needs to be moved, numbered between 1 and 9, and `direction` is one of `'UP', 'DOWN', 'LEFT', 'RIGHT'`."
   ]
  },
  {
   "cell_type": "markdown",
   "metadata": {},
   "source": [
    "As we know, uninformed search can be costly to run.  Therefore we will focus on solving this problem using the A* algorithm.  For that, you will need to propose and implement heuristics that will assist the algorithm in finding the solution in a timely manner."
   ]
  },
  {
   "cell_type": "markdown",
   "metadata": {},
   "source": [
    "For my implementation I will use the code provided in `search.py`.  Using this framework, I'll try to write a class that inherits from the generic class `Problem`.  We'll call that class `two_Ls`. I will need to add certain methods to solve the puzzle with the search algorithms implemented in `search.py`. Let's start now..  \n"
   ]
  },
  {
   "cell_type": "code",
   "execution_count": 2,
   "metadata": {},
   "outputs": [],
   "source": [
    "from search import *\n",
    "\n",
    "class two_Ls(Problem) :\n",
    "    \"\"\"\n",
    "    A class that encapsulates the 'Making two Ls meet' puzzle\n",
    "    \"\"\"\n",
    "    # fill in the necessary methods to make the class work in conjuntion\n",
    "    # with search functions in search.py\n",
    "    # this incl. methods such as actions, goal_test etc.\n",
    "    # see the implementation of EightPuzzle in search.py for an example\n",
    "    # you can follow\n",
    "    def __init__(self, initial=(1,1,1,2,2, 3,3,4,4,2, 7,5,5,6,6, 7,7,8,8,8, 0,0,0,9,0)) :\n",
    "        self.initial = initial\n",
    "\n",
    "    def actions(self, state):\n",
    "        \"\"\" Return the actions that can be executed in the given state.\n",
    "        The result would be a list, since there are only four possible actions\n",
    "        in any given state of the environment \"\"\"\n",
    "        \n",
    "        index_of_pieces =  []\n",
    "        all_index = []\n",
    "        directions = ['UP', 'DOWN', 'LEFT', 'RIGHT']\n",
    "        pieces = [1,2,3,4,5,6,7,8,9]\n",
    "\n",
    "        possible_actions = [(piece,direction) for piece in pieces for direction in directions]\n",
    "        for index in range(10):\n",
    "            index_of_pieces.append((index, [x for x, y in enumerate(state) if y == index]))\n",
    "        all_index = dict((index,num) for index,num in enumerate(state))\n",
    "\n",
    "        if (index_of_pieces[1][0] == 1 and index_of_pieces[1][1][0] % 5 == 0) or (index_of_pieces[1][0] == 1 and all_index[(index_of_pieces[1][1][0]-1)] != 0):\n",
    "            possible_actions.remove((1, 'LEFT'))\n",
    "        if (index_of_pieces[1][0] == 1 and index_of_pieces[1][1][0] < 5) or (index_of_pieces[1][0] == 1 and (all_index[(index_of_pieces[1][1][0]-5)] != 0 or all_index[(index_of_pieces[1][1][1]-5)] != 0 or all_index[(index_of_pieces[1][1][2]-5)] != 0)):\n",
    "            possible_actions.remove((1, 'UP'))\n",
    "        if (index_of_pieces[1][0] == 1 and index_of_pieces[1][1][2] % 5 == 4) or (index_of_pieces[1][0] == 1 and all_index[(index_of_pieces[1][1][2]+1)] != 0):\n",
    "            possible_actions.remove((1, 'RIGHT'))\n",
    "        if (index_of_pieces[1][0] == 1 and index_of_pieces[1][1][0] > 19) or (index_of_pieces[1][0] == 1 and (all_index[(index_of_pieces[1][1][0]+5)] != 0 or all_index[(index_of_pieces[1][1][1]+5)] != 0 or all_index[(index_of_pieces[1][1][2]+5)] != 0)):\n",
    "            possible_actions.remove((1, 'DOWN'))\n",
    "            \n",
    "        if (index_of_pieces[2][0] == 2 and index_of_pieces[2][1][0] % 5 == 0) or (index_of_pieces[2][0] == 2 and (all_index[(index_of_pieces[2][1][0]-1)] != 0 or all_index[(index_of_pieces[2][1][2]-1)] != 0)):\n",
    "            possible_actions.remove((2, 'LEFT'))\n",
    "        if (index_of_pieces[2][0] == 2 and index_of_pieces[2][1][0] < 5) or (index_of_pieces[2][0] == 2 and (all_index[(index_of_pieces[2][1][0]-5)] != 0 or all_index[(index_of_pieces[2][1][1]-5)] != 0)):\n",
    "            possible_actions.remove((2, 'UP'))\n",
    "        if (index_of_pieces[2][0] == 2 and index_of_pieces[2][1][1] % 5 == 4) or (index_of_pieces[2][0] == 2 and (all_index[(index_of_pieces[2][1][1]+1)] != 0 or all_index[(index_of_pieces[2][1][2]+1)] != 0)):\n",
    "            possible_actions.remove((2, 'RIGHT'))\n",
    "        if (index_of_pieces[2][0] == 2 and index_of_pieces[2][1][2] > 19) or (index_of_pieces[2][0] == 2 and (all_index[(index_of_pieces[2][1][0]+5)] != 0 or all_index[(index_of_pieces[2][1][2]+5)] != 0)):\n",
    "            possible_actions.remove((2, 'DOWN'))\n",
    "            \n",
    "        if (index_of_pieces[3][0] == 3 and index_of_pieces[3][1][0] % 5 == 0) or (index_of_pieces[3][0] == 3 and all_index[(index_of_pieces[3][1][0]-1)] != 0):\n",
    "            possible_actions.remove((3, 'LEFT'))\n",
    "        if (index_of_pieces[3][0] == 3 and index_of_pieces[3][1][0] < 5) or (index_of_pieces[3][0] == 3 and (all_index[(index_of_pieces[3][1][0]-5)] != 0 or all_index[(index_of_pieces[3][1][1]-5)] != 0)):\n",
    "            possible_actions.remove((3, 'UP'))\n",
    "        if (index_of_pieces[3][0] == 3 and index_of_pieces[3][1][1] % 5 == 4) or (index_of_pieces[3][0] == 3 and all_index[(index_of_pieces[3][1][1]+1)] != 0):\n",
    "            possible_actions.remove((3, 'RIGHT'))\n",
    "        if (index_of_pieces[3][0] == 3 and index_of_pieces[3][1][0] > 19) or (index_of_pieces[3][0] == 3 and (all_index[(index_of_pieces[3][1][0]+5)] != 0 or all_index[(index_of_pieces[3][1][1]+5)] != 0)):\n",
    "            possible_actions.remove((3, 'DOWN'))\n",
    "            \n",
    "        if (index_of_pieces[4][0] == 4 and index_of_pieces[4][1][0] % 5 == 0) or (index_of_pieces[4][0] == 4 and all_index[(index_of_pieces[4][1][0]-1)] != 0):\n",
    "            possible_actions.remove((4, 'LEFT'))\n",
    "        if (index_of_pieces[4][0] == 4 and index_of_pieces[4][1][0] < 5) or (index_of_pieces[4][0] == 4 and (all_index[(index_of_pieces[4][1][0]-5)] != 0 or all_index[(index_of_pieces[4][1][1]-5)] != 0)):\n",
    "            possible_actions.remove((4, 'UP'))\n",
    "        if (index_of_pieces[4][0] == 4 and index_of_pieces[4][1][1] % 5 == 4) or (index_of_pieces[4][0] == 4 and all_index[(index_of_pieces[4][1][1]+1)] != 0):\n",
    "            possible_actions.remove((4, 'RIGHT'))\n",
    "        if (index_of_pieces[4][0] == 4 and index_of_pieces[4][1][0] > 19) or (index_of_pieces[4][0] == 4 and (all_index[(index_of_pieces[4][1][0]+5)] != 0 or all_index[(index_of_pieces[4][1][1]+5)] != 0)):\n",
    "            possible_actions.remove((4, 'DOWN'))\n",
    "            \n",
    "        if (index_of_pieces[5][0] == 5 and index_of_pieces[5][1][0] % 5 == 0) or (index_of_pieces[5][0] == 5 and all_index[(index_of_pieces[5][1][0]-1)] != 0):\n",
    "            possible_actions.remove((5, 'LEFT'))\n",
    "        if (index_of_pieces[5][0] == 5 and index_of_pieces[5][1][0] < 5) or (index_of_pieces[5][0] == 5 and (all_index[(index_of_pieces[5][1][0]-5)] != 0 or all_index[(index_of_pieces[5][1][1]-5)] != 0)):\n",
    "            possible_actions.remove((5, 'UP'))\n",
    "        if (index_of_pieces[5][0] == 5 and index_of_pieces[5][1][1] % 5 == 4) or (index_of_pieces[5][0] == 5 and all_index[(index_of_pieces[5][1][1]+1)] != 0):\n",
    "            possible_actions.remove((5, 'RIGHT'))\n",
    "        if (index_of_pieces[5][0] == 5 and index_of_pieces[5][1][0] > 19) or (index_of_pieces[5][0] == 5 and (all_index[(index_of_pieces[5][1][0]+5)] != 0 or all_index[(index_of_pieces[5][1][1]+5)] != 0)):\n",
    "            possible_actions.remove((5, 'DOWN'))\n",
    "            \n",
    "        if (index_of_pieces[6][0] == 6 and index_of_pieces[6][1][0] % 5 == 0) or (index_of_pieces[6][0] == 6 and all_index[(index_of_pieces[6][1][0]-1)] != 0):\n",
    "            possible_actions.remove((6, 'LEFT'))\n",
    "        if (index_of_pieces[6][0] == 6 and index_of_pieces[6][1][0] < 5) or (index_of_pieces[6][0] == 6 and (all_index[(index_of_pieces[6][1][0]-5)] != 0 or all_index[(index_of_pieces[6][1][1]-5)] != 0)):\n",
    "            possible_actions.remove((6, 'UP'))\n",
    "        if (index_of_pieces[6][0] == 6 and index_of_pieces[6][1][1] % 5 == 4) or (index_of_pieces[6][0] == 6 and all_index[(index_of_pieces[6][1][1]+1)] != 0):\n",
    "            possible_actions.remove((6, 'RIGHT'))\n",
    "        if (index_of_pieces[6][0] == 6 and index_of_pieces[6][1][0] > 19) or (index_of_pieces[6][0] == 6 and (all_index[(index_of_pieces[6][1][0]+5)] != 0 or all_index[(index_of_pieces[6][1][1]+5)] != 0)):\n",
    "            possible_actions.remove((6, 'DOWN'))\n",
    "            \n",
    "        if (index_of_pieces[7][0] == 7 and index_of_pieces[7][1][0] % 5 == 0) or (index_of_pieces[7][0] == 7 and (all_index[(index_of_pieces[7][1][0]-1)] != 0 or all_index[(index_of_pieces[7][1][1]-1)] != 0)):\n",
    "            possible_actions.remove((7, 'LEFT'))\n",
    "        if (index_of_pieces[7][0] == 7 and index_of_pieces[7][1][0] < 5) or (index_of_pieces[7][0] == 7 and (all_index[(index_of_pieces[7][1][0]-5)] != 0 or all_index[(index_of_pieces[7][1][2]-5)] != 0)):\n",
    "            possible_actions.remove((7, 'UP'))\n",
    "        if (index_of_pieces[7][0] == 7 and index_of_pieces[7][1][2] % 5 == 4) or (index_of_pieces[7][0] == 7 and (all_index[(index_of_pieces[7][1][0]+1)] != 0 or all_index[(index_of_pieces[7][1][2]+1)] != 0)):\n",
    "            possible_actions.remove((7, 'RIGHT'))\n",
    "        if (index_of_pieces[7][0] == 7 and index_of_pieces[7][1][1] > 19) or (index_of_pieces[7][0] == 7 and (all_index[(index_of_pieces[7][1][1]+5)] != 0 or all_index[(index_of_pieces[7][1][2]+5)] != 0)):\n",
    "            possible_actions.remove((7, 'DOWN'))\n",
    "            \n",
    "        if (index_of_pieces[8][0] == 8 and index_of_pieces[8][1][0] % 5 == 0) or (index_of_pieces[8][0] == 8 and all_index[(index_of_pieces[8][1][0]-1)] != 0):\n",
    "            possible_actions.remove((8, 'LEFT'))\n",
    "        if (index_of_pieces[8][0] == 8 and index_of_pieces[8][1][0] < 5) or (index_of_pieces[8][0] == 8 and (all_index[(index_of_pieces[8][1][0]-5)] != 0 or all_index[(index_of_pieces[8][1][1]-5)] != 0 or all_index[(index_of_pieces[8][1][2]-5)] != 0)):\n",
    "            possible_actions.remove((8, 'UP'))\n",
    "        if (index_of_pieces[8][0] == 8 and index_of_pieces[8][1][2] % 5 == 4) or (index_of_pieces[8][0] == 8 and all_index[(index_of_pieces[8][1][2]+1)] != 0):\n",
    "            possible_actions.remove((8, 'RIGHT'))\n",
    "        if (index_of_pieces[8][0] == 8 and index_of_pieces[8][1][0] > 19) or (index_of_pieces[8][0] == 8 and (all_index[(index_of_pieces[8][1][0]+5)] != 0 or all_index[(index_of_pieces[8][1][1]+5)] != 0 or all_index[(index_of_pieces[8][1][2]+5)] != 0)):\n",
    "            possible_actions.remove((8, 'DOWN'))\n",
    "            \n",
    "        if (index_of_pieces[9][0] == 9 and index_of_pieces[9][1][0] % 5 == 0) or (index_of_pieces[9][0] == 9 and all_index[(index_of_pieces[9][1][0]-1)] != 0):\n",
    "            possible_actions.remove((9, 'LEFT'))\n",
    "        if (index_of_pieces[9][0] == 9 and index_of_pieces[9][1][0] < 5) or (index_of_pieces[9][0] == 9 and all_index[(index_of_pieces[9][1][0]-5)] != 0):\n",
    "            possible_actions.remove((9, 'UP'))\n",
    "        if (index_of_pieces[9][0] == 9 and index_of_pieces[9][1][0] % 5 == 4) or (index_of_pieces[9][0] == 9 and all_index[(index_of_pieces[9][1][0]+1)] != 0):\n",
    "            possible_actions.remove((9, 'RIGHT'))\n",
    "        if (index_of_pieces[9][0] == 9 and index_of_pieces[9][1][0] > 19) or (index_of_pieces[9][0] == 9 and all_index[(index_of_pieces[9][1][0]+5)] != 0):\n",
    "            possible_actions.remove((9, 'DOWN'))\n",
    "            \n",
    "        return possible_actions\n",
    "\n",
    "    def result(self, state, action):\n",
    "        \"\"\" Given state and action, return a new state that is the result of the action.\n",
    "        Action is assumed to be a valid action in the state \"\"\"\n",
    "\n",
    "        # blank is the index of the blank square\n",
    "        delta = {'UP': -5, 'DOWN': 5, 'LEFT': -1, 'RIGHT': 1}\n",
    "        all_index = dict((index,num) for index,num in enumerate(state))\n",
    "        new_state = list(state)\n",
    "        actions = action[1]\n",
    "        number = action[0]\n",
    "        number_index = [index for index,num in all_index.items() if num == number]\n",
    "\n",
    "        if number in [1,2,7,8]:\n",
    "            new_state[number_index[0]], new_state[number_index[1]], new_state[number_index[2]], new_state[number_index[0] + delta[actions]], new_state[number_index[1] + delta[actions]], new_state[number_index[2] + delta[actions]] = 0,0,0,number,number,number\n",
    "        if number in [3,4,5,6]:\n",
    "            new_state[number_index[0]], new_state[number_index[1]], new_state[number_index[0] + delta[actions]], new_state[number_index[1] + delta[actions]] = 0,0,number,number\n",
    "        if number == 9:\n",
    "            new_state[number_index[0]], new_state[number_index[0] + delta[actions]] = 0,number\n",
    "            \n",
    "        return tuple(new_state)\n",
    "    \n",
    "    def goal_test(self, state):\n",
    "        \"\"\" Given a state, return True if state is a goal state or False, otherwise \"\"\"\n",
    "\n",
    "        \n",
    "        return (state[state.index(2) + 5] == 7 or state[state.index(7) + 1] == 2)\n",
    "    \n",
    "    def h(self,node):\n",
    "        \n",
    "        return h2(node)"
   ]
  },
  {
   "cell_type": "markdown",
   "metadata": {},
   "source": [
    "In the following two cells, implement and describe two admissible heuristics for the problem.  Explain why they are admissible.  Make sure that the two heuristics are distinct from each other and capture different notions of the idea of a \"good search direction\"."
   ]
  },
  {
   "cell_type": "code",
   "execution_count": 3,
   "metadata": {},
   "outputs": [],
   "source": [
    "def h1(node):\n",
    "    \n",
    "    index_of_pieces =  []\n",
    "    for index in range(10):\n",
    "        index_of_pieces.append((index, [x for x, y in enumerate(node.state) if y == index]))\n",
    "        \n",
    "    return (index_of_pieces[7][1][0] - index_of_pieces[2][1][0])\n",
    "    \n",
    "def h2(node):\n",
    "    \n",
    "    index_of_pieces =  []\n",
    "    for index in range(10):\n",
    "        index_of_pieces.append((index, [x for x, y in enumerate(node.state) if y == index]))\n",
    "        \n",
    "    return (abs(index_of_pieces[7][1][0] - index_of_pieces[2][1][0] + 5) * abs(index_of_pieces[7][1][0] - index_of_pieces[2][1][0] - 1))"
   ]
  },
  {
   "cell_type": "markdown",
   "metadata": {},
   "source": [
    "Heuristic 1: I am just considering the number of tiles between 2 and 7 and counting the number for every state. The lesser the value more the state is closer to goal state.\n",
    "\n",
    "Heuristic 2: Again multiplying the two possible solutions of goal state for the two L puzzle with their absolute value\n",
    "\n",
    "Both the heuristic are admissible as they do not overestimate the cost and solve the puzzle within a minute with less steps and expanded nodes"
   ]
  },
  {
   "cell_type": "code",
   "execution_count": 4,
   "metadata": {},
   "outputs": [],
   "source": [
    "def solve_puzzle(puzzle) :\n",
    "    \"\"\"Receives and instance of the class two_Ls and returns\n",
    "    a list of actions, that when applied to an initial state, lead to a \n",
    "    goal state.\n",
    "    \"\"\"\n",
    "    \n",
    "    solve = astar_search(puzzle)\n",
    "    return solve\n"
   ]
  },
  {
   "cell_type": "markdown",
   "metadata": {},
   "source": [
    "Some qs I'll address:\n",
    "\n",
    "* Run your code, and compare the number of nodes expanded by A* with the heuristics you have proposed.  \n",
    "* Which heuristic worked better?  Can you explain why?  \n",
    "* Do you expect DFS or BFS to yield a result in a reasonable amount of time?  Explain!\n",
    "\n",
    "<!-- For retrieving the number of nodes expanded during the search, you may use the `InstrumentedProblem` class in `search.py`. -->\n"
   ]
  },
  {
   "cell_type": "markdown",
   "metadata": {},
   "source": [
    "### Comparison of nodes expanded\n",
    "\n",
    "h1 = 41219\n",
    "\n",
    "h2 = 3418\n",
    "\n",
    "Heuristic 2 worked better because it was more of a consitent heuristic and was taking us closer to goal state than Heuristic 1.\n",
    "\n",
    "No either one wont yeild a better result cause they would expand to a large no of nodes and take up lots of space and memory compared to A* heuristic algorithm."
   ]
  },
  {
   "cell_type": "code",
   "execution_count": 5,
   "metadata": {},
   "outputs": [
    {
     "name": "stdout",
     "output_type": "stream",
     "text": [
      "Time taken to solve puzzle: 0.44983601570129395\n",
      "The solution: [(9, 'LEFT'), (9, 'LEFT'), (8, 'DOWN'), (6, 'DOWN'), (5, 'RIGHT'), (5, 'RIGHT'), (9, 'LEFT'), (8, 'LEFT'), (7, 'RIGHT'), (9, 'UP'), (8, 'LEFT'), (6, 'DOWN'), (5, 'DOWN'), (4, 'DOWN'), (2, 'DOWN'), (1, 'RIGHT'), (1, 'RIGHT'), (9, 'UP'), (3, 'UP'), (9, 'UP'), (7, 'LEFT'), (5, 'LEFT'), (4, 'LEFT'), (4, 'UP'), (5, 'UP'), (5, 'LEFT'), (2, 'DOWN'), (4, 'RIGHT'), (4, 'RIGHT'), (5, 'UP'), (7, 'RIGHT'), (7, 'RIGHT')]\n",
      "Number of nodes explanded: 3418\n",
      "Number of Steps taken to get solution: 32\n"
     ]
    }
   ],
   "source": [
    "# your code for comparing heuristics\n",
    "import time\n",
    "\n",
    "start_time = time.time()\n",
    "puzzle = two_Ls((1,1,1,2,2, 3,3,4,4,2, 7,5,5,6,6, 7,7,8,8,8, 0,0,0,9,0))\n",
    "inst = InstrumentedProblem(puzzle)\n",
    "sol = solve_puzzle(inst).solution()\n",
    "print (\"Time taken to solve puzzle:\", time.time()-start_time)\n",
    "print (\"The solution:\", sol)\n",
    "print (\"Number of nodes explanded:\", inst.states)\n",
    "print (\"Number of Steps taken to get solution:\", len(sol))"
   ]
  },
  {
   "cell_type": "markdown",
   "metadata": {},
   "source": [
    "### Results\n",
    "\n",
    "No of nodes expanded,\n",
    "h1 = 41219\n",
    "\n",
    "h2 = 3418\n",
    "\n",
    "Time taken to solve puzzle:\n",
    "h1 =  29 sec\n",
    "\n",
    "h2 = 0.42 sec\n",
    "\n",
    "No of steps taken:\n",
    "h1 = 32\n",
    "\n",
    "h2 = 32\n",
    "\n",
    "Thus the A* algorithm with good admissible heuristics wil give us the best possible solution. "
   ]
  }
 ],
 "metadata": {
  "kernelspec": {
   "display_name": "Python 3",
   "language": "python",
   "name": "python3"
  },
  "language_info": {
   "codemirror_mode": {
    "name": "ipython",
    "version": 3
   },
   "file_extension": ".py",
   "mimetype": "text/x-python",
   "name": "python",
   "nbconvert_exporter": "python",
   "pygments_lexer": "ipython3",
   "version": "3.7.3"
  }
 },
 "nbformat": 4,
 "nbformat_minor": 2
}
